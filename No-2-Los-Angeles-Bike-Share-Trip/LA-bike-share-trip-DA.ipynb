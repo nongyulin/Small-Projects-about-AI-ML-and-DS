{
 "cells": [
  {
   "cell_type": "markdown",
   "metadata": {},
   "source": [
    "## 1 Import Libraries"
   ]
  },
  {
   "cell_type": "code",
   "execution_count": 1,
   "metadata": {},
   "outputs": [
    {
     "name": "stdout",
     "output_type": "stream",
     "text": [
      "['metro-bike-share-trip-data-tra.csv', 'metro-bike-share-trip-data.csv']\n"
     ]
    }
   ],
   "source": [
    "import numpy as np\n",
    "import pandas as pd\n",
    "import matplotlib.pyplot as plt\n",
    "%matplotlib inline\n",
    "\n",
    "import os\n",
    "print(os.listdir(\"./input\"))"
   ]
  },
  {
   "cell_type": "markdown",
   "metadata": {},
   "source": [
    "## 2 Import dataset"
   ]
  },
  {
   "cell_type": "code",
   "execution_count": 24,
   "metadata": {},
   "outputs": [],
   "source": [
    "bike_share_trip = pd.read_csv(\"./input/metro-bike-share-trip-data.csv\")"
   ]
  },
  {
   "cell_type": "markdown",
   "metadata": {},
   "source": [
    "## 3 Data Exploration"
   ]
  },
  {
   "cell_type": "code",
   "execution_count": 25,
   "metadata": {
    "scrolled": true
   },
   "outputs": [
    {
     "name": "stdout",
     "output_type": "stream",
     "text": [
      "<class 'pandas.core.frame.DataFrame'>\n",
      "RangeIndex: 132427 entries, 0 to 132426\n",
      "Data columns (total 16 columns):\n",
      "Trip ID                       132427 non-null int64\n",
      "Duration                      132427 non-null int64\n",
      "Start Time                    132427 non-null object\n",
      "End Time                      132427 non-null object\n",
      "Starting Station ID           132408 non-null float64\n",
      "Starting Station Latitude     132379 non-null float64\n",
      "Starting Station Longitude    132379 non-null float64\n",
      "Ending Station ID             132331 non-null float64\n",
      "Ending Station Latitude       131376 non-null float64\n",
      "Ending Station Longitude      131376 non-null float64\n",
      "Bike ID                       132417 non-null float64\n",
      "Plan Duration                 131661 non-null float64\n",
      "Trip Route Category           132427 non-null object\n",
      "Passholder Type               132427 non-null object\n",
      "Starting Lat-Long             98622 non-null object\n",
      "Ending Lat-Long               131376 non-null object\n",
      "dtypes: float64(8), int64(2), object(6)\n",
      "memory usage: 16.2+ MB\n"
     ]
    }
   ],
   "source": [
    "# look the generl information of the dataset, how many records, how many columns and what types \n",
    "bike_share_trip.info()"
   ]
  },
  {
   "cell_type": "code",
   "execution_count": 26,
   "metadata": {},
   "outputs": [
    {
     "data": {
      "text/html": [
       "<div>\n",
       "<style scoped>\n",
       "    .dataframe tbody tr th:only-of-type {\n",
       "        vertical-align: middle;\n",
       "    }\n",
       "\n",
       "    .dataframe tbody tr th {\n",
       "        vertical-align: top;\n",
       "    }\n",
       "\n",
       "    .dataframe thead th {\n",
       "        text-align: right;\n",
       "    }\n",
       "</style>\n",
       "<table border=\"1\" class=\"dataframe\">\n",
       "  <thead>\n",
       "    <tr style=\"text-align: right;\">\n",
       "      <th></th>\n",
       "      <th>Trip ID</th>\n",
       "      <th>Duration</th>\n",
       "      <th>Start Time</th>\n",
       "      <th>End Time</th>\n",
       "      <th>Starting Station ID</th>\n",
       "      <th>Starting Station Latitude</th>\n",
       "      <th>Starting Station Longitude</th>\n",
       "      <th>Ending Station ID</th>\n",
       "      <th>Ending Station Latitude</th>\n",
       "      <th>Ending Station Longitude</th>\n",
       "      <th>Bike ID</th>\n",
       "      <th>Plan Duration</th>\n",
       "      <th>Trip Route Category</th>\n",
       "      <th>Passholder Type</th>\n",
       "      <th>Starting Lat-Long</th>\n",
       "      <th>Ending Lat-Long</th>\n",
       "    </tr>\n",
       "  </thead>\n",
       "  <tbody>\n",
       "    <tr>\n",
       "      <th>0</th>\n",
       "      <td>1912818</td>\n",
       "      <td>180</td>\n",
       "      <td>2016-07-07T04:17:00</td>\n",
       "      <td>2016-07-07T04:20:00</td>\n",
       "      <td>3014.0</td>\n",
       "      <td>34.056610</td>\n",
       "      <td>-118.23721</td>\n",
       "      <td>3014.0</td>\n",
       "      <td>34.056610</td>\n",
       "      <td>-118.23721</td>\n",
       "      <td>6281.0</td>\n",
       "      <td>30.0</td>\n",
       "      <td>Round Trip</td>\n",
       "      <td>Monthly Pass</td>\n",
       "      <td>{'longitude': '-118.23721', 'latitude': '34.05...</td>\n",
       "      <td>{'longitude': '-118.23721', 'latitude': '34.05...</td>\n",
       "    </tr>\n",
       "    <tr>\n",
       "      <th>1</th>\n",
       "      <td>1919661</td>\n",
       "      <td>1980</td>\n",
       "      <td>2016-07-07T06:00:00</td>\n",
       "      <td>2016-07-07T06:33:00</td>\n",
       "      <td>3014.0</td>\n",
       "      <td>34.056610</td>\n",
       "      <td>-118.23721</td>\n",
       "      <td>3014.0</td>\n",
       "      <td>34.056610</td>\n",
       "      <td>-118.23721</td>\n",
       "      <td>6281.0</td>\n",
       "      <td>30.0</td>\n",
       "      <td>Round Trip</td>\n",
       "      <td>Monthly Pass</td>\n",
       "      <td>{'longitude': '-118.23721', 'latitude': '34.05...</td>\n",
       "      <td>{'longitude': '-118.23721', 'latitude': '34.05...</td>\n",
       "    </tr>\n",
       "    <tr>\n",
       "      <th>2</th>\n",
       "      <td>1933383</td>\n",
       "      <td>300</td>\n",
       "      <td>2016-07-07T10:32:00</td>\n",
       "      <td>2016-07-07T10:37:00</td>\n",
       "      <td>3016.0</td>\n",
       "      <td>34.052898</td>\n",
       "      <td>-118.24156</td>\n",
       "      <td>3016.0</td>\n",
       "      <td>34.052898</td>\n",
       "      <td>-118.24156</td>\n",
       "      <td>5861.0</td>\n",
       "      <td>365.0</td>\n",
       "      <td>Round Trip</td>\n",
       "      <td>Flex Pass</td>\n",
       "      <td>{'longitude': '-118.24156', 'latitude': '34.05...</td>\n",
       "      <td>{'longitude': '-118.24156', 'latitude': '34.05...</td>\n",
       "    </tr>\n",
       "    <tr>\n",
       "      <th>3</th>\n",
       "      <td>1944197</td>\n",
       "      <td>10860</td>\n",
       "      <td>2016-07-07T10:37:00</td>\n",
       "      <td>2016-07-07T13:38:00</td>\n",
       "      <td>3016.0</td>\n",
       "      <td>34.052898</td>\n",
       "      <td>-118.24156</td>\n",
       "      <td>3016.0</td>\n",
       "      <td>34.052898</td>\n",
       "      <td>-118.24156</td>\n",
       "      <td>5861.0</td>\n",
       "      <td>365.0</td>\n",
       "      <td>Round Trip</td>\n",
       "      <td>Flex Pass</td>\n",
       "      <td>{'longitude': '-118.24156', 'latitude': '34.05...</td>\n",
       "      <td>{'longitude': '-118.24156', 'latitude': '34.05...</td>\n",
       "    </tr>\n",
       "    <tr>\n",
       "      <th>4</th>\n",
       "      <td>1940317</td>\n",
       "      <td>420</td>\n",
       "      <td>2016-07-07T12:51:00</td>\n",
       "      <td>2016-07-07T12:58:00</td>\n",
       "      <td>3032.0</td>\n",
       "      <td>34.049889</td>\n",
       "      <td>-118.25588</td>\n",
       "      <td>3032.0</td>\n",
       "      <td>34.049889</td>\n",
       "      <td>-118.25588</td>\n",
       "      <td>6674.0</td>\n",
       "      <td>0.0</td>\n",
       "      <td>Round Trip</td>\n",
       "      <td>Walk-up</td>\n",
       "      <td>{'longitude': '-118.25588', 'latitude': '34.04...</td>\n",
       "      <td>{'longitude': '-118.25588', 'latitude': '34.04...</td>\n",
       "    </tr>\n",
       "  </tbody>\n",
       "</table>\n",
       "</div>"
      ],
      "text/plain": [
       "   Trip ID  Duration           Start Time             End Time  \\\n",
       "0  1912818       180  2016-07-07T04:17:00  2016-07-07T04:20:00   \n",
       "1  1919661      1980  2016-07-07T06:00:00  2016-07-07T06:33:00   \n",
       "2  1933383       300  2016-07-07T10:32:00  2016-07-07T10:37:00   \n",
       "3  1944197     10860  2016-07-07T10:37:00  2016-07-07T13:38:00   \n",
       "4  1940317       420  2016-07-07T12:51:00  2016-07-07T12:58:00   \n",
       "\n",
       "   Starting Station ID  Starting Station Latitude  Starting Station Longitude  \\\n",
       "0               3014.0                  34.056610                  -118.23721   \n",
       "1               3014.0                  34.056610                  -118.23721   \n",
       "2               3016.0                  34.052898                  -118.24156   \n",
       "3               3016.0                  34.052898                  -118.24156   \n",
       "4               3032.0                  34.049889                  -118.25588   \n",
       "\n",
       "   Ending Station ID  Ending Station Latitude  Ending Station Longitude  \\\n",
       "0             3014.0                34.056610                -118.23721   \n",
       "1             3014.0                34.056610                -118.23721   \n",
       "2             3016.0                34.052898                -118.24156   \n",
       "3             3016.0                34.052898                -118.24156   \n",
       "4             3032.0                34.049889                -118.25588   \n",
       "\n",
       "   Bike ID  Plan Duration Trip Route Category Passholder Type  \\\n",
       "0   6281.0           30.0          Round Trip    Monthly Pass   \n",
       "1   6281.0           30.0          Round Trip    Monthly Pass   \n",
       "2   5861.0          365.0          Round Trip       Flex Pass   \n",
       "3   5861.0          365.0          Round Trip       Flex Pass   \n",
       "4   6674.0            0.0          Round Trip         Walk-up   \n",
       "\n",
       "                                   Starting Lat-Long  \\\n",
       "0  {'longitude': '-118.23721', 'latitude': '34.05...   \n",
       "1  {'longitude': '-118.23721', 'latitude': '34.05...   \n",
       "2  {'longitude': '-118.24156', 'latitude': '34.05...   \n",
       "3  {'longitude': '-118.24156', 'latitude': '34.05...   \n",
       "4  {'longitude': '-118.25588', 'latitude': '34.04...   \n",
       "\n",
       "                                     Ending Lat-Long  \n",
       "0  {'longitude': '-118.23721', 'latitude': '34.05...  \n",
       "1  {'longitude': '-118.23721', 'latitude': '34.05...  \n",
       "2  {'longitude': '-118.24156', 'latitude': '34.05...  \n",
       "3  {'longitude': '-118.24156', 'latitude': '34.05...  \n",
       "4  {'longitude': '-118.25588', 'latitude': '34.04...  "
      ]
     },
     "execution_count": 26,
     "metadata": {},
     "output_type": "execute_result"
    }
   ],
   "source": [
    "#Check beginning of the dataset\n",
    "bike_share_trip.head()"
   ]
  },
  {
   "cell_type": "code",
   "execution_count": 27,
   "metadata": {},
   "outputs": [
    {
     "data": {
      "text/html": [
       "<div>\n",
       "<style scoped>\n",
       "    .dataframe tbody tr th:only-of-type {\n",
       "        vertical-align: middle;\n",
       "    }\n",
       "\n",
       "    .dataframe tbody tr th {\n",
       "        vertical-align: top;\n",
       "    }\n",
       "\n",
       "    .dataframe thead th {\n",
       "        text-align: right;\n",
       "    }\n",
       "</style>\n",
       "<table border=\"1\" class=\"dataframe\">\n",
       "  <thead>\n",
       "    <tr style=\"text-align: right;\">\n",
       "      <th></th>\n",
       "      <th>Trip ID</th>\n",
       "      <th>Duration</th>\n",
       "      <th>Start Time</th>\n",
       "      <th>End Time</th>\n",
       "      <th>Starting Station ID</th>\n",
       "      <th>Starting Station Latitude</th>\n",
       "      <th>Starting Station Longitude</th>\n",
       "      <th>Ending Station ID</th>\n",
       "      <th>Ending Station Latitude</th>\n",
       "      <th>Ending Station Longitude</th>\n",
       "      <th>Bike ID</th>\n",
       "      <th>Plan Duration</th>\n",
       "      <th>Trip Route Category</th>\n",
       "      <th>Passholder Type</th>\n",
       "      <th>Starting Lat-Long</th>\n",
       "      <th>Ending Lat-Long</th>\n",
       "    </tr>\n",
       "  </thead>\n",
       "  <tbody>\n",
       "    <tr>\n",
       "      <th>132422</th>\n",
       "      <td>23660993</td>\n",
       "      <td>540</td>\n",
       "      <td>2017-03-31T23:43:00</td>\n",
       "      <td>2017-03-31T23:52:00</td>\n",
       "      <td>3055.0</td>\n",
       "      <td>34.044159</td>\n",
       "      <td>-118.251579</td>\n",
       "      <td>3035.0</td>\n",
       "      <td>34.048401</td>\n",
       "      <td>-118.260948</td>\n",
       "      <td>5978.0</td>\n",
       "      <td>0.0</td>\n",
       "      <td>One Way</td>\n",
       "      <td>Walk-up</td>\n",
       "      <td>NaN</td>\n",
       "      <td>{'longitude': '-118.260948', 'latitude': '34.0...</td>\n",
       "    </tr>\n",
       "    <tr>\n",
       "      <th>132423</th>\n",
       "      <td>23660992</td>\n",
       "      <td>480</td>\n",
       "      <td>2017-03-31T23:44:00</td>\n",
       "      <td>2017-03-31T23:52:00</td>\n",
       "      <td>3055.0</td>\n",
       "      <td>34.044159</td>\n",
       "      <td>-118.251579</td>\n",
       "      <td>3035.0</td>\n",
       "      <td>34.048401</td>\n",
       "      <td>-118.260948</td>\n",
       "      <td>6478.0</td>\n",
       "      <td>0.0</td>\n",
       "      <td>One Way</td>\n",
       "      <td>Walk-up</td>\n",
       "      <td>NaN</td>\n",
       "      <td>{'longitude': '-118.260948', 'latitude': '34.0...</td>\n",
       "    </tr>\n",
       "    <tr>\n",
       "      <th>132424</th>\n",
       "      <td>23660991</td>\n",
       "      <td>480</td>\n",
       "      <td>2017-03-31T23:44:00</td>\n",
       "      <td>2017-03-31T23:52:00</td>\n",
       "      <td>3082.0</td>\n",
       "      <td>34.046520</td>\n",
       "      <td>-118.237411</td>\n",
       "      <td>3054.0</td>\n",
       "      <td>34.039219</td>\n",
       "      <td>-118.236488</td>\n",
       "      <td>6183.0</td>\n",
       "      <td>0.0</td>\n",
       "      <td>One Way</td>\n",
       "      <td>Walk-up</td>\n",
       "      <td>NaN</td>\n",
       "      <td>{'longitude': '-118.236488', 'latitude': '34.0...</td>\n",
       "    </tr>\n",
       "    <tr>\n",
       "      <th>132425</th>\n",
       "      <td>23660990</td>\n",
       "      <td>420</td>\n",
       "      <td>2017-03-31T23:45:00</td>\n",
       "      <td>2017-03-31T23:52:00</td>\n",
       "      <td>3082.0</td>\n",
       "      <td>34.046520</td>\n",
       "      <td>-118.237411</td>\n",
       "      <td>3054.0</td>\n",
       "      <td>34.039219</td>\n",
       "      <td>-118.236488</td>\n",
       "      <td>5900.0</td>\n",
       "      <td>0.0</td>\n",
       "      <td>One Way</td>\n",
       "      <td>Walk-up</td>\n",
       "      <td>NaN</td>\n",
       "      <td>{'longitude': '-118.236488', 'latitude': '34.0...</td>\n",
       "    </tr>\n",
       "    <tr>\n",
       "      <th>132426</th>\n",
       "      <td>23664826</td>\n",
       "      <td>1260</td>\n",
       "      <td>2017-03-31T23:45:00</td>\n",
       "      <td>2017-04-01T00:06:00</td>\n",
       "      <td>3078.0</td>\n",
       "      <td>34.064281</td>\n",
       "      <td>-118.238937</td>\n",
       "      <td>3029.0</td>\n",
       "      <td>34.048851</td>\n",
       "      <td>-118.246422</td>\n",
       "      <td>6207.0</td>\n",
       "      <td>0.0</td>\n",
       "      <td>One Way</td>\n",
       "      <td>Walk-up</td>\n",
       "      <td>NaN</td>\n",
       "      <td>{'longitude': '-118.246422', 'latitude': '34.0...</td>\n",
       "    </tr>\n",
       "  </tbody>\n",
       "</table>\n",
       "</div>"
      ],
      "text/plain": [
       "         Trip ID  Duration           Start Time             End Time  \\\n",
       "132422  23660993       540  2017-03-31T23:43:00  2017-03-31T23:52:00   \n",
       "132423  23660992       480  2017-03-31T23:44:00  2017-03-31T23:52:00   \n",
       "132424  23660991       480  2017-03-31T23:44:00  2017-03-31T23:52:00   \n",
       "132425  23660990       420  2017-03-31T23:45:00  2017-03-31T23:52:00   \n",
       "132426  23664826      1260  2017-03-31T23:45:00  2017-04-01T00:06:00   \n",
       "\n",
       "        Starting Station ID  Starting Station Latitude  \\\n",
       "132422               3055.0                  34.044159   \n",
       "132423               3055.0                  34.044159   \n",
       "132424               3082.0                  34.046520   \n",
       "132425               3082.0                  34.046520   \n",
       "132426               3078.0                  34.064281   \n",
       "\n",
       "        Starting Station Longitude  Ending Station ID  \\\n",
       "132422                 -118.251579             3035.0   \n",
       "132423                 -118.251579             3035.0   \n",
       "132424                 -118.237411             3054.0   \n",
       "132425                 -118.237411             3054.0   \n",
       "132426                 -118.238937             3029.0   \n",
       "\n",
       "        Ending Station Latitude  Ending Station Longitude  Bike ID  \\\n",
       "132422                34.048401               -118.260948   5978.0   \n",
       "132423                34.048401               -118.260948   6478.0   \n",
       "132424                34.039219               -118.236488   6183.0   \n",
       "132425                34.039219               -118.236488   5900.0   \n",
       "132426                34.048851               -118.246422   6207.0   \n",
       "\n",
       "        Plan Duration Trip Route Category Passholder Type Starting Lat-Long  \\\n",
       "132422            0.0             One Way         Walk-up               NaN   \n",
       "132423            0.0             One Way         Walk-up               NaN   \n",
       "132424            0.0             One Way         Walk-up               NaN   \n",
       "132425            0.0             One Way         Walk-up               NaN   \n",
       "132426            0.0             One Way         Walk-up               NaN   \n",
       "\n",
       "                                          Ending Lat-Long  \n",
       "132422  {'longitude': '-118.260948', 'latitude': '34.0...  \n",
       "132423  {'longitude': '-118.260948', 'latitude': '34.0...  \n",
       "132424  {'longitude': '-118.236488', 'latitude': '34.0...  \n",
       "132425  {'longitude': '-118.236488', 'latitude': '34.0...  \n",
       "132426  {'longitude': '-118.246422', 'latitude': '34.0...  "
      ]
     },
     "execution_count": 27,
     "metadata": {},
     "output_type": "execute_result"
    }
   ],
   "source": [
    "#check end of the dataset\n",
    "bike_share_trip.tail()"
   ]
  },
  {
   "cell_type": "code",
   "execution_count": 28,
   "metadata": {},
   "outputs": [
    {
     "data": {
      "text/html": [
       "<div>\n",
       "<style scoped>\n",
       "    .dataframe tbody tr th:only-of-type {\n",
       "        vertical-align: middle;\n",
       "    }\n",
       "\n",
       "    .dataframe tbody tr th {\n",
       "        vertical-align: top;\n",
       "    }\n",
       "\n",
       "    .dataframe thead th {\n",
       "        text-align: right;\n",
       "    }\n",
       "</style>\n",
       "<table border=\"1\" class=\"dataframe\">\n",
       "  <thead>\n",
       "    <tr style=\"text-align: right;\">\n",
       "      <th></th>\n",
       "      <th>Trip ID</th>\n",
       "      <th>Duration</th>\n",
       "      <th>Starting Station ID</th>\n",
       "      <th>Starting Station Latitude</th>\n",
       "      <th>Starting Station Longitude</th>\n",
       "      <th>Ending Station ID</th>\n",
       "      <th>Ending Station Latitude</th>\n",
       "      <th>Ending Station Longitude</th>\n",
       "      <th>Bike ID</th>\n",
       "      <th>Plan Duration</th>\n",
       "    </tr>\n",
       "  </thead>\n",
       "  <tbody>\n",
       "    <tr>\n",
       "      <th>count</th>\n",
       "      <td>1.324270e+05</td>\n",
       "      <td>132427.000000</td>\n",
       "      <td>132408.000000</td>\n",
       "      <td>132379.000000</td>\n",
       "      <td>132379.000000</td>\n",
       "      <td>132331.00000</td>\n",
       "      <td>131376.000000</td>\n",
       "      <td>131376.000000</td>\n",
       "      <td>132417.000000</td>\n",
       "      <td>131661.000000</td>\n",
       "    </tr>\n",
       "    <tr>\n",
       "      <th>mean</th>\n",
       "      <td>1.153001e+07</td>\n",
       "      <td>1555.301562</td>\n",
       "      <td>3043.020754</td>\n",
       "      <td>34.039309</td>\n",
       "      <td>-118.221534</td>\n",
       "      <td>3042.38672</td>\n",
       "      <td>34.034614</td>\n",
       "      <td>-118.206642</td>\n",
       "      <td>6193.618878</td>\n",
       "      <td>44.821967</td>\n",
       "    </tr>\n",
       "    <tr>\n",
       "      <th>std</th>\n",
       "      <td>6.369462e+06</td>\n",
       "      <td>5814.241813</td>\n",
       "      <td>37.742021</td>\n",
       "      <td>0.529336</td>\n",
       "      <td>1.838335</td>\n",
       "      <td>43.08440</td>\n",
       "      <td>0.650706</td>\n",
       "      <td>2.259913</td>\n",
       "      <td>293.606755</td>\n",
       "      <td>90.411579</td>\n",
       "    </tr>\n",
       "    <tr>\n",
       "      <th>min</th>\n",
       "      <td>1.912818e+06</td>\n",
       "      <td>60.000000</td>\n",
       "      <td>3000.000000</td>\n",
       "      <td>0.000000</td>\n",
       "      <td>-118.472832</td>\n",
       "      <td>3000.00000</td>\n",
       "      <td>0.000000</td>\n",
       "      <td>-118.472832</td>\n",
       "      <td>1349.000000</td>\n",
       "      <td>0.000000</td>\n",
       "    </tr>\n",
       "    <tr>\n",
       "      <th>25%</th>\n",
       "      <td>5.060814e+06</td>\n",
       "      <td>360.000000</td>\n",
       "      <td>3024.000000</td>\n",
       "      <td>34.044170</td>\n",
       "      <td>-118.256980</td>\n",
       "      <td>3022.00000</td>\n",
       "      <td>34.044159</td>\n",
       "      <td>-118.256981</td>\n",
       "      <td>5953.000000</td>\n",
       "      <td>0.000000</td>\n",
       "    </tr>\n",
       "    <tr>\n",
       "      <th>50%</th>\n",
       "      <td>1.043827e+07</td>\n",
       "      <td>600.000000</td>\n",
       "      <td>3040.000000</td>\n",
       "      <td>34.046822</td>\n",
       "      <td>-118.250954</td>\n",
       "      <td>3038.00000</td>\n",
       "      <td>34.046810</td>\n",
       "      <td>-118.250954</td>\n",
       "      <td>6186.000000</td>\n",
       "      <td>30.000000</td>\n",
       "    </tr>\n",
       "    <tr>\n",
       "      <th>75%</th>\n",
       "      <td>1.720633e+07</td>\n",
       "      <td>1080.000000</td>\n",
       "      <td>3063.000000</td>\n",
       "      <td>34.050880</td>\n",
       "      <td>-118.241562</td>\n",
       "      <td>3063.00000</td>\n",
       "      <td>34.050480</td>\n",
       "      <td>-118.238810</td>\n",
       "      <td>6434.000000</td>\n",
       "      <td>30.000000</td>\n",
       "    </tr>\n",
       "    <tr>\n",
       "      <th>max</th>\n",
       "      <td>2.379422e+07</td>\n",
       "      <td>86400.000000</td>\n",
       "      <td>4108.000000</td>\n",
       "      <td>34.064281</td>\n",
       "      <td>0.000000</td>\n",
       "      <td>4108.00000</td>\n",
       "      <td>34.064281</td>\n",
       "      <td>0.000000</td>\n",
       "      <td>6728.000000</td>\n",
       "      <td>365.000000</td>\n",
       "    </tr>\n",
       "  </tbody>\n",
       "</table>\n",
       "</div>"
      ],
      "text/plain": [
       "            Trip ID       Duration  Starting Station ID  \\\n",
       "count  1.324270e+05  132427.000000        132408.000000   \n",
       "mean   1.153001e+07    1555.301562          3043.020754   \n",
       "std    6.369462e+06    5814.241813            37.742021   \n",
       "min    1.912818e+06      60.000000          3000.000000   \n",
       "25%    5.060814e+06     360.000000          3024.000000   \n",
       "50%    1.043827e+07     600.000000          3040.000000   \n",
       "75%    1.720633e+07    1080.000000          3063.000000   \n",
       "max    2.379422e+07   86400.000000          4108.000000   \n",
       "\n",
       "       Starting Station Latitude  Starting Station Longitude  \\\n",
       "count              132379.000000               132379.000000   \n",
       "mean                   34.039309                 -118.221534   \n",
       "std                     0.529336                    1.838335   \n",
       "min                     0.000000                 -118.472832   \n",
       "25%                    34.044170                 -118.256980   \n",
       "50%                    34.046822                 -118.250954   \n",
       "75%                    34.050880                 -118.241562   \n",
       "max                    34.064281                    0.000000   \n",
       "\n",
       "       Ending Station ID  Ending Station Latitude  Ending Station Longitude  \\\n",
       "count       132331.00000            131376.000000             131376.000000   \n",
       "mean          3042.38672                34.034614               -118.206642   \n",
       "std             43.08440                 0.650706                  2.259913   \n",
       "min           3000.00000                 0.000000               -118.472832   \n",
       "25%           3022.00000                34.044159               -118.256981   \n",
       "50%           3038.00000                34.046810               -118.250954   \n",
       "75%           3063.00000                34.050480               -118.238810   \n",
       "max           4108.00000                34.064281                  0.000000   \n",
       "\n",
       "             Bike ID  Plan Duration  \n",
       "count  132417.000000  131661.000000  \n",
       "mean     6193.618878      44.821967  \n",
       "std       293.606755      90.411579  \n",
       "min      1349.000000       0.000000  \n",
       "25%      5953.000000       0.000000  \n",
       "50%      6186.000000      30.000000  \n",
       "75%      6434.000000      30.000000  \n",
       "max      6728.000000     365.000000  "
      ]
     },
     "execution_count": 28,
     "metadata": {},
     "output_type": "execute_result"
    }
   ],
   "source": [
    "# Look the description of the dataset\n",
    "bike_share_trip.describe()"
   ]
  },
  {
   "cell_type": "code",
   "execution_count": 29,
   "metadata": {},
   "outputs": [
    {
     "data": {
      "text/plain": [
       "Trip ID                           0\n",
       "Duration                          0\n",
       "Start Time                        0\n",
       "End Time                          0\n",
       "Starting Station ID              19\n",
       "Starting Station Latitude        48\n",
       "Starting Station Longitude       48\n",
       "Ending Station ID                96\n",
       "Ending Station Latitude        1051\n",
       "Ending Station Longitude       1051\n",
       "Bike ID                          10\n",
       "Plan Duration                   766\n",
       "Trip Route Category               0\n",
       "Passholder Type                   0\n",
       "Starting Lat-Long             33805\n",
       "Ending Lat-Long                1051\n",
       "dtype: int64"
      ]
     },
     "execution_count": 29,
     "metadata": {},
     "output_type": "execute_result"
    }
   ],
   "source": [
    "# Check the missing data\n",
    "bike_share_trip.isnull().sum()"
   ]
  },
  {
   "cell_type": "code",
   "execution_count": 30,
   "metadata": {},
   "outputs": [
    {
     "data": {
      "text/html": [
       "<div>\n",
       "<style scoped>\n",
       "    .dataframe tbody tr th:only-of-type {\n",
       "        vertical-align: middle;\n",
       "    }\n",
       "\n",
       "    .dataframe tbody tr th {\n",
       "        vertical-align: top;\n",
       "    }\n",
       "\n",
       "    .dataframe thead th {\n",
       "        text-align: right;\n",
       "    }\n",
       "</style>\n",
       "<table border=\"1\" class=\"dataframe\">\n",
       "  <thead>\n",
       "    <tr style=\"text-align: right;\">\n",
       "      <th></th>\n",
       "      <th>Trip ID</th>\n",
       "      <th>Duration</th>\n",
       "      <th>Start Time</th>\n",
       "      <th>End Time</th>\n",
       "      <th>Starting Station ID</th>\n",
       "      <th>Starting Station Latitude</th>\n",
       "      <th>Starting Station Longitude</th>\n",
       "      <th>Ending Station ID</th>\n",
       "      <th>Ending Station Latitude</th>\n",
       "      <th>Ending Station Longitude</th>\n",
       "      <th>Bike ID</th>\n",
       "      <th>Plan Duration</th>\n",
       "      <th>Trip Route Category</th>\n",
       "      <th>Passholder Type</th>\n",
       "      <th>Starting Lat-Long</th>\n",
       "      <th>Ending Lat-Long</th>\n",
       "    </tr>\n",
       "  </thead>\n",
       "  <tbody>\n",
       "  </tbody>\n",
       "</table>\n",
       "</div>"
      ],
      "text/plain": [
       "Empty DataFrame\n",
       "Columns: [Trip ID, Duration, Start Time, End Time, Starting Station ID, Starting Station Latitude, Starting Station Longitude, Ending Station ID, Ending Station Latitude, Ending Station Longitude, Bike ID, Plan Duration, Trip Route Category, Passholder Type, Starting Lat-Long, Ending Lat-Long]\n",
       "Index: []"
      ]
     },
     "execution_count": 30,
     "metadata": {},
     "output_type": "execute_result"
    }
   ],
   "source": [
    "# Check the duplicated data\n",
    "bike_share_trip_dup = bike_share_trip.duplicated()\n",
    "bike_share_trip[bike_share_trip_dup]"
   ]
  },
  {
   "cell_type": "code",
   "execution_count": 31,
   "metadata": {},
   "outputs": [
    {
     "data": {
      "text/html": [
       "<div>\n",
       "<style scoped>\n",
       "    .dataframe tbody tr th:only-of-type {\n",
       "        vertical-align: middle;\n",
       "    }\n",
       "\n",
       "    .dataframe tbody tr th {\n",
       "        vertical-align: top;\n",
       "    }\n",
       "\n",
       "    .dataframe thead th {\n",
       "        text-align: right;\n",
       "    }\n",
       "</style>\n",
       "<table border=\"1\" class=\"dataframe\">\n",
       "  <thead>\n",
       "    <tr style=\"text-align: right;\">\n",
       "      <th></th>\n",
       "      <th>Trip_ID</th>\n",
       "      <th>Duration</th>\n",
       "      <th>Start_Time</th>\n",
       "      <th>End_Time</th>\n",
       "      <th>Starting_Station_ID</th>\n",
       "      <th>Starting_Station_Latitude</th>\n",
       "      <th>Starting_Station_Longitude</th>\n",
       "      <th>Ending_Station_ID</th>\n",
       "      <th>Ending_Station_Latitude</th>\n",
       "      <th>Ending_Station_Longitude</th>\n",
       "      <th>Bike_ID</th>\n",
       "      <th>Plan_Duration</th>\n",
       "      <th>Trip_Route_Category</th>\n",
       "      <th>Passholder_Type</th>\n",
       "      <th>Starting_Lat-Long</th>\n",
       "      <th>Ending_Lat-Long</th>\n",
       "    </tr>\n",
       "  </thead>\n",
       "  <tbody>\n",
       "    <tr>\n",
       "      <th>0</th>\n",
       "      <td>1912818</td>\n",
       "      <td>180</td>\n",
       "      <td>2016-07-07T04:17:00</td>\n",
       "      <td>2016-07-07T04:20:00</td>\n",
       "      <td>3014.0</td>\n",
       "      <td>34.056610</td>\n",
       "      <td>-118.23721</td>\n",
       "      <td>3014.0</td>\n",
       "      <td>34.056610</td>\n",
       "      <td>-118.23721</td>\n",
       "      <td>6281.0</td>\n",
       "      <td>30.0</td>\n",
       "      <td>Round Trip</td>\n",
       "      <td>Monthly Pass</td>\n",
       "      <td>{'longitude': '-118.23721', 'latitude': '34.05...</td>\n",
       "      <td>{'longitude': '-118.23721', 'latitude': '34.05...</td>\n",
       "    </tr>\n",
       "    <tr>\n",
       "      <th>1</th>\n",
       "      <td>1919661</td>\n",
       "      <td>1980</td>\n",
       "      <td>2016-07-07T06:00:00</td>\n",
       "      <td>2016-07-07T06:33:00</td>\n",
       "      <td>3014.0</td>\n",
       "      <td>34.056610</td>\n",
       "      <td>-118.23721</td>\n",
       "      <td>3014.0</td>\n",
       "      <td>34.056610</td>\n",
       "      <td>-118.23721</td>\n",
       "      <td>6281.0</td>\n",
       "      <td>30.0</td>\n",
       "      <td>Round Trip</td>\n",
       "      <td>Monthly Pass</td>\n",
       "      <td>{'longitude': '-118.23721', 'latitude': '34.05...</td>\n",
       "      <td>{'longitude': '-118.23721', 'latitude': '34.05...</td>\n",
       "    </tr>\n",
       "    <tr>\n",
       "      <th>2</th>\n",
       "      <td>1933383</td>\n",
       "      <td>300</td>\n",
       "      <td>2016-07-07T10:32:00</td>\n",
       "      <td>2016-07-07T10:37:00</td>\n",
       "      <td>3016.0</td>\n",
       "      <td>34.052898</td>\n",
       "      <td>-118.24156</td>\n",
       "      <td>3016.0</td>\n",
       "      <td>34.052898</td>\n",
       "      <td>-118.24156</td>\n",
       "      <td>5861.0</td>\n",
       "      <td>365.0</td>\n",
       "      <td>Round Trip</td>\n",
       "      <td>Flex Pass</td>\n",
       "      <td>{'longitude': '-118.24156', 'latitude': '34.05...</td>\n",
       "      <td>{'longitude': '-118.24156', 'latitude': '34.05...</td>\n",
       "    </tr>\n",
       "    <tr>\n",
       "      <th>3</th>\n",
       "      <td>1944197</td>\n",
       "      <td>10860</td>\n",
       "      <td>2016-07-07T10:37:00</td>\n",
       "      <td>2016-07-07T13:38:00</td>\n",
       "      <td>3016.0</td>\n",
       "      <td>34.052898</td>\n",
       "      <td>-118.24156</td>\n",
       "      <td>3016.0</td>\n",
       "      <td>34.052898</td>\n",
       "      <td>-118.24156</td>\n",
       "      <td>5861.0</td>\n",
       "      <td>365.0</td>\n",
       "      <td>Round Trip</td>\n",
       "      <td>Flex Pass</td>\n",
       "      <td>{'longitude': '-118.24156', 'latitude': '34.05...</td>\n",
       "      <td>{'longitude': '-118.24156', 'latitude': '34.05...</td>\n",
       "    </tr>\n",
       "    <tr>\n",
       "      <th>4</th>\n",
       "      <td>1940317</td>\n",
       "      <td>420</td>\n",
       "      <td>2016-07-07T12:51:00</td>\n",
       "      <td>2016-07-07T12:58:00</td>\n",
       "      <td>3032.0</td>\n",
       "      <td>34.049889</td>\n",
       "      <td>-118.25588</td>\n",
       "      <td>3032.0</td>\n",
       "      <td>34.049889</td>\n",
       "      <td>-118.25588</td>\n",
       "      <td>6674.0</td>\n",
       "      <td>0.0</td>\n",
       "      <td>Round Trip</td>\n",
       "      <td>Walk-up</td>\n",
       "      <td>{'longitude': '-118.25588', 'latitude': '34.04...</td>\n",
       "      <td>{'longitude': '-118.25588', 'latitude': '34.04...</td>\n",
       "    </tr>\n",
       "  </tbody>\n",
       "</table>\n",
       "</div>"
      ],
      "text/plain": [
       "   Trip_ID  Duration           Start_Time             End_Time  \\\n",
       "0  1912818       180  2016-07-07T04:17:00  2016-07-07T04:20:00   \n",
       "1  1919661      1980  2016-07-07T06:00:00  2016-07-07T06:33:00   \n",
       "2  1933383       300  2016-07-07T10:32:00  2016-07-07T10:37:00   \n",
       "3  1944197     10860  2016-07-07T10:37:00  2016-07-07T13:38:00   \n",
       "4  1940317       420  2016-07-07T12:51:00  2016-07-07T12:58:00   \n",
       "\n",
       "   Starting_Station_ID  Starting_Station_Latitude  Starting_Station_Longitude  \\\n",
       "0               3014.0                  34.056610                  -118.23721   \n",
       "1               3014.0                  34.056610                  -118.23721   \n",
       "2               3016.0                  34.052898                  -118.24156   \n",
       "3               3016.0                  34.052898                  -118.24156   \n",
       "4               3032.0                  34.049889                  -118.25588   \n",
       "\n",
       "   Ending_Station_ID  Ending_Station_Latitude  Ending_Station_Longitude  \\\n",
       "0             3014.0                34.056610                -118.23721   \n",
       "1             3014.0                34.056610                -118.23721   \n",
       "2             3016.0                34.052898                -118.24156   \n",
       "3             3016.0                34.052898                -118.24156   \n",
       "4             3032.0                34.049889                -118.25588   \n",
       "\n",
       "   Bike_ID  Plan_Duration Trip_Route_Category Passholder_Type  \\\n",
       "0   6281.0           30.0          Round Trip    Monthly Pass   \n",
       "1   6281.0           30.0          Round Trip    Monthly Pass   \n",
       "2   5861.0          365.0          Round Trip       Flex Pass   \n",
       "3   5861.0          365.0          Round Trip       Flex Pass   \n",
       "4   6674.0            0.0          Round Trip         Walk-up   \n",
       "\n",
       "                                   Starting_Lat-Long  \\\n",
       "0  {'longitude': '-118.23721', 'latitude': '34.05...   \n",
       "1  {'longitude': '-118.23721', 'latitude': '34.05...   \n",
       "2  {'longitude': '-118.24156', 'latitude': '34.05...   \n",
       "3  {'longitude': '-118.24156', 'latitude': '34.05...   \n",
       "4  {'longitude': '-118.25588', 'latitude': '34.04...   \n",
       "\n",
       "                                     Ending_Lat-Long  \n",
       "0  {'longitude': '-118.23721', 'latitude': '34.05...  \n",
       "1  {'longitude': '-118.23721', 'latitude': '34.05...  \n",
       "2  {'longitude': '-118.24156', 'latitude': '34.05...  \n",
       "3  {'longitude': '-118.24156', 'latitude': '34.05...  \n",
       "4  {'longitude': '-118.25588', 'latitude': '34.04...  "
      ]
     },
     "execution_count": 31,
     "metadata": {},
     "output_type": "execute_result"
    }
   ],
   "source": [
    "# Put _ instead of spaces in column names \n",
    "bike_share_trip.columns = bike_share_trip.columns.str.replace(' ','_')\n",
    "bike_share_trip.head()"
   ]
  },
  {
   "cell_type": "markdown",
   "metadata": {},
   "source": [
    "### conclusion\n",
    "\n",
    "* From above data exploration, it could be seen that the dataset contains 132426 records, in which no more than 38000 have null values. There are no duplicated records in this dataset. \n",
    "* So even the null records are dropped, the dataset still has very good quantity of records for furhter works. (If records quantity is small, a reasonable way should be found to fill the null values.)\n",
    "\n",
    "* \"Starting Lat-Long\" is already included in \"Starting Station Latitude\" and \"Starting Station Longitude\". So \"Starting Lat-Long\" could be dropped.\n",
    "* \"Ending Lat-Long\" is already included in \"Ending  Station Latitude\" and \"Ending  Station Longitude\". So \"Starting Lat-Long\" could be dropped.\n",
    "\n",
    "* \"Trip ID\" is like an index and provides no additional info.\n",
    "* \"Plan Duration\" and \"Passholder Type\" contains same info. \"Plan Duration\" represents in numbers, and \"Passholder Type\" represents in strings.\n",
    "* The data and time in \"Start Time\" and \"End Time\" should be seperated for further analysis."
   ]
  },
  {
   "cell_type": "markdown",
   "metadata": {},
   "source": [
    "## 4 Data cleaning and preparation"
   ]
  },
  {
   "cell_type": "code",
   "execution_count": 32,
   "metadata": {},
   "outputs": [
    {
     "name": "stdout",
     "output_type": "stream",
     "text": [
      "<class 'pandas.core.frame.DataFrame'>\n",
      "Int64Index: 97825 entries, 0 to 98640\n",
      "Data columns (total 16 columns):\n",
      "Trip_ID                       97825 non-null int64\n",
      "Duration                      97825 non-null int64\n",
      "Start_Time                    97825 non-null object\n",
      "End_Time                      97825 non-null object\n",
      "Starting_Station_ID           97825 non-null float64\n",
      "Starting_Station_Latitude     97825 non-null float64\n",
      "Starting_Station_Longitude    97825 non-null float64\n",
      "Ending_Station_ID             97825 non-null float64\n",
      "Ending_Station_Latitude       97825 non-null float64\n",
      "Ending_Station_Longitude      97825 non-null float64\n",
      "Bike_ID                       97825 non-null float64\n",
      "Plan_Duration                 97825 non-null float64\n",
      "Trip_Route_Category           97825 non-null object\n",
      "Passholder_Type               97825 non-null object\n",
      "Starting_Lat-Long             97825 non-null object\n",
      "Ending_Lat-Long               97825 non-null object\n",
      "dtypes: float64(8), int64(2), object(6)\n",
      "memory usage: 12.7+ MB\n"
     ]
    }
   ],
   "source": [
    "# Drop null values.\n",
    "bike_share_trip = bike_share_trip.dropna()\n",
    "bike_share_trip.info()"
   ]
  },
  {
   "cell_type": "code",
   "execution_count": 33,
   "metadata": {},
   "outputs": [],
   "source": [
    "# Drop 'Starting Lat-Long' and 'Ending Lat-Long'\n",
    "bike_share_trip = bike_share_trip.drop(['Starting_Lat-Long','Ending_Lat-Long'], axis=1)"
   ]
  },
  {
   "cell_type": "code",
   "execution_count": 34,
   "metadata": {},
   "outputs": [],
   "source": [
    "# Convert 'Start Time' and 'End Time'\n",
    "bike_share_trip['Start_Time']=pd.to_datetime(bike_share_trip['Start_Time'])\n",
    "bike_share_trip['End_Time']=pd.to_datetime(bike_share_trip['End_Time'])"
   ]
  },
  {
   "cell_type": "code",
   "execution_count": 35,
   "metadata": {},
   "outputs": [],
   "source": [
    "new_dates, new_times = zip(*[(d.date(),d.time()) for d in bike_share_trip['Start_Time']])\n",
    "bike_share_trip = bike_share_trip.assign(new_start_date=new_dates, new_start_time=new_times)\n",
    "new_dates, new_times = zip(*[(d.date(),d.time()) for d in bike_share_trip['End_Time']])\n",
    "bike_share_trip = bike_share_trip.assign(new_End_date=new_dates, new_end_time=new_times)"
   ]
  },
  {
   "cell_type": "code",
   "execution_count": 36,
   "metadata": {},
   "outputs": [
    {
     "data": {
      "text/html": [
       "<div>\n",
       "<style scoped>\n",
       "    .dataframe tbody tr th:only-of-type {\n",
       "        vertical-align: middle;\n",
       "    }\n",
       "\n",
       "    .dataframe tbody tr th {\n",
       "        vertical-align: top;\n",
       "    }\n",
       "\n",
       "    .dataframe thead th {\n",
       "        text-align: right;\n",
       "    }\n",
       "</style>\n",
       "<table border=\"1\" class=\"dataframe\">\n",
       "  <thead>\n",
       "    <tr style=\"text-align: right;\">\n",
       "      <th></th>\n",
       "      <th>Trip_ID</th>\n",
       "      <th>Duration</th>\n",
       "      <th>Start_Time</th>\n",
       "      <th>End_Time</th>\n",
       "      <th>Starting_Station_ID</th>\n",
       "      <th>Starting_Station_Latitude</th>\n",
       "      <th>Starting_Station_Longitude</th>\n",
       "      <th>Ending_Station_ID</th>\n",
       "      <th>Ending_Station_Latitude</th>\n",
       "      <th>Ending_Station_Longitude</th>\n",
       "      <th>Bike_ID</th>\n",
       "      <th>Plan_Duration</th>\n",
       "      <th>Trip_Route_Category</th>\n",
       "      <th>Passholder_Type</th>\n",
       "      <th>new_start_date</th>\n",
       "      <th>new_start_time</th>\n",
       "      <th>new_End_date</th>\n",
       "      <th>new_end_time</th>\n",
       "    </tr>\n",
       "  </thead>\n",
       "  <tbody>\n",
       "    <tr>\n",
       "      <th>0</th>\n",
       "      <td>1912818</td>\n",
       "      <td>180</td>\n",
       "      <td>2016-07-07 04:17:00</td>\n",
       "      <td>2016-07-07 04:20:00</td>\n",
       "      <td>3014.0</td>\n",
       "      <td>34.056610</td>\n",
       "      <td>-118.23721</td>\n",
       "      <td>3014.0</td>\n",
       "      <td>34.056610</td>\n",
       "      <td>-118.23721</td>\n",
       "      <td>6281.0</td>\n",
       "      <td>30.0</td>\n",
       "      <td>Round Trip</td>\n",
       "      <td>Monthly Pass</td>\n",
       "      <td>2016-07-07</td>\n",
       "      <td>04:17:00</td>\n",
       "      <td>2016-07-07</td>\n",
       "      <td>04:20:00</td>\n",
       "    </tr>\n",
       "    <tr>\n",
       "      <th>1</th>\n",
       "      <td>1919661</td>\n",
       "      <td>1980</td>\n",
       "      <td>2016-07-07 06:00:00</td>\n",
       "      <td>2016-07-07 06:33:00</td>\n",
       "      <td>3014.0</td>\n",
       "      <td>34.056610</td>\n",
       "      <td>-118.23721</td>\n",
       "      <td>3014.0</td>\n",
       "      <td>34.056610</td>\n",
       "      <td>-118.23721</td>\n",
       "      <td>6281.0</td>\n",
       "      <td>30.0</td>\n",
       "      <td>Round Trip</td>\n",
       "      <td>Monthly Pass</td>\n",
       "      <td>2016-07-07</td>\n",
       "      <td>06:00:00</td>\n",
       "      <td>2016-07-07</td>\n",
       "      <td>06:33:00</td>\n",
       "    </tr>\n",
       "    <tr>\n",
       "      <th>2</th>\n",
       "      <td>1933383</td>\n",
       "      <td>300</td>\n",
       "      <td>2016-07-07 10:32:00</td>\n",
       "      <td>2016-07-07 10:37:00</td>\n",
       "      <td>3016.0</td>\n",
       "      <td>34.052898</td>\n",
       "      <td>-118.24156</td>\n",
       "      <td>3016.0</td>\n",
       "      <td>34.052898</td>\n",
       "      <td>-118.24156</td>\n",
       "      <td>5861.0</td>\n",
       "      <td>365.0</td>\n",
       "      <td>Round Trip</td>\n",
       "      <td>Flex Pass</td>\n",
       "      <td>2016-07-07</td>\n",
       "      <td>10:32:00</td>\n",
       "      <td>2016-07-07</td>\n",
       "      <td>10:37:00</td>\n",
       "    </tr>\n",
       "    <tr>\n",
       "      <th>3</th>\n",
       "      <td>1944197</td>\n",
       "      <td>10860</td>\n",
       "      <td>2016-07-07 10:37:00</td>\n",
       "      <td>2016-07-07 13:38:00</td>\n",
       "      <td>3016.0</td>\n",
       "      <td>34.052898</td>\n",
       "      <td>-118.24156</td>\n",
       "      <td>3016.0</td>\n",
       "      <td>34.052898</td>\n",
       "      <td>-118.24156</td>\n",
       "      <td>5861.0</td>\n",
       "      <td>365.0</td>\n",
       "      <td>Round Trip</td>\n",
       "      <td>Flex Pass</td>\n",
       "      <td>2016-07-07</td>\n",
       "      <td>10:37:00</td>\n",
       "      <td>2016-07-07</td>\n",
       "      <td>13:38:00</td>\n",
       "    </tr>\n",
       "    <tr>\n",
       "      <th>4</th>\n",
       "      <td>1940317</td>\n",
       "      <td>420</td>\n",
       "      <td>2016-07-07 12:51:00</td>\n",
       "      <td>2016-07-07 12:58:00</td>\n",
       "      <td>3032.0</td>\n",
       "      <td>34.049889</td>\n",
       "      <td>-118.25588</td>\n",
       "      <td>3032.0</td>\n",
       "      <td>34.049889</td>\n",
       "      <td>-118.25588</td>\n",
       "      <td>6674.0</td>\n",
       "      <td>0.0</td>\n",
       "      <td>Round Trip</td>\n",
       "      <td>Walk-up</td>\n",
       "      <td>2016-07-07</td>\n",
       "      <td>12:51:00</td>\n",
       "      <td>2016-07-07</td>\n",
       "      <td>12:58:00</td>\n",
       "    </tr>\n",
       "  </tbody>\n",
       "</table>\n",
       "</div>"
      ],
      "text/plain": [
       "   Trip_ID  Duration          Start_Time            End_Time  \\\n",
       "0  1912818       180 2016-07-07 04:17:00 2016-07-07 04:20:00   \n",
       "1  1919661      1980 2016-07-07 06:00:00 2016-07-07 06:33:00   \n",
       "2  1933383       300 2016-07-07 10:32:00 2016-07-07 10:37:00   \n",
       "3  1944197     10860 2016-07-07 10:37:00 2016-07-07 13:38:00   \n",
       "4  1940317       420 2016-07-07 12:51:00 2016-07-07 12:58:00   \n",
       "\n",
       "   Starting_Station_ID  Starting_Station_Latitude  Starting_Station_Longitude  \\\n",
       "0               3014.0                  34.056610                  -118.23721   \n",
       "1               3014.0                  34.056610                  -118.23721   \n",
       "2               3016.0                  34.052898                  -118.24156   \n",
       "3               3016.0                  34.052898                  -118.24156   \n",
       "4               3032.0                  34.049889                  -118.25588   \n",
       "\n",
       "   Ending_Station_ID  Ending_Station_Latitude  Ending_Station_Longitude  \\\n",
       "0             3014.0                34.056610                -118.23721   \n",
       "1             3014.0                34.056610                -118.23721   \n",
       "2             3016.0                34.052898                -118.24156   \n",
       "3             3016.0                34.052898                -118.24156   \n",
       "4             3032.0                34.049889                -118.25588   \n",
       "\n",
       "   Bike_ID  Plan_Duration Trip_Route_Category Passholder_Type new_start_date  \\\n",
       "0   6281.0           30.0          Round Trip    Monthly Pass     2016-07-07   \n",
       "1   6281.0           30.0          Round Trip    Monthly Pass     2016-07-07   \n",
       "2   5861.0          365.0          Round Trip       Flex Pass     2016-07-07   \n",
       "3   5861.0          365.0          Round Trip       Flex Pass     2016-07-07   \n",
       "4   6674.0            0.0          Round Trip         Walk-up     2016-07-07   \n",
       "\n",
       "  new_start_time new_End_date new_end_time  \n",
       "0       04:17:00   2016-07-07     04:20:00  \n",
       "1       06:00:00   2016-07-07     06:33:00  \n",
       "2       10:32:00   2016-07-07     10:37:00  \n",
       "3       10:37:00   2016-07-07     13:38:00  \n",
       "4       12:51:00   2016-07-07     12:58:00  "
      ]
     },
     "execution_count": 36,
     "metadata": {},
     "output_type": "execute_result"
    }
   ],
   "source": [
    "# Check dataset again\n",
    "bike_share_trip.head()"
   ]
  },
  {
   "cell_type": "markdown",
   "metadata": {},
   "source": [
    "## 5 Data Analyzation and Visualization"
   ]
  },
  {
   "cell_type": "markdown",
   "metadata": {},
   "source": [
    "### Analysis on trip Duration"
   ]
  },
  {
   "cell_type": "code",
   "execution_count": 37,
   "metadata": {},
   "outputs": [
    {
     "name": "stdout",
     "output_type": "stream",
     "text": [
      "The maximun duration is 1440.0 min, and the minimun duration is 1.0 min.\n",
      "The higest 5 durations and the frequencies are:\n",
      "\n"
     ]
    },
    {
     "data": {
      "text/plain": [
       "6.0    7071\n",
       "7.0    6884\n",
       "8.0    6566\n",
       "5.0    6540\n",
       "9.0    5789\n",
       "Name: Duration, dtype: int64"
      ]
     },
     "execution_count": 37,
     "metadata": {},
     "output_type": "execute_result"
    }
   ],
   "source": [
    "# convert duration in min\n",
    "bike_share_trip['Duration'] = bike_share_trip['Duration']/60\n",
    "print(\"The maximun duration is {} min, and the minimun duration is {} min.\".format(bike_share_trip.Duration.max(), bike_share_trip.Duration.min()))\n",
    "print(\"The higest 5 durations and the frequencies are:\\n\")\n",
    "bike_share_trip.Duration.value_counts().head()"
   ]
  },
  {
   "cell_type": "code",
   "execution_count": 38,
   "metadata": {},
   "outputs": [
    {
     "data": {
      "image/png": "[encoded data removed]",
      "text/plain": [
       "<Figure size 864x360 with 2 Axes>"
      ]
     },
     "metadata": {
      "needs_background": "light"
     },
     "output_type": "display_data"
    }
   ],
   "source": [
    "plt.figure(figsize=(12,5))\n",
    "\n",
    "plt.subplot(121)\n",
    "plt.hist(bike_share_trip['Duration'], bins=80)\n",
    "plt.xlabel('Duration (min)')\n",
    "plt.ylabel('Number of users')\n",
    "plt.title('Total number of users based on \\'Duration\\'')\n",
    "\n",
    "plt.subplot(122)\n",
    "plt.hist(bike_share_trip['Duration'], bins=80,range=(0,60))\n",
    "plt.xlabel('Duration , Enlarge x-axis(min)')\n",
    "plt.ylabel('Number of users')\n",
    "plt.title('Total number of users based on \\'Duration\\'<60min')\n",
    "plt.show()"
   ]
  },
  {
   "cell_type": "markdown",
   "metadata": {},
   "source": [
    "### Conclusion\n",
    "The majority of the trips are lower than 30 minutes long. From Metro Bike Share official website, it is known that \"**Single ride fees are \\\\$1.75 for the first half hour, and \\\\$1.75 per half hour thereafter.**\". These could be used to explain why most people only ride bikes less than 30 minutes."
   ]
  },
  {
   "cell_type": "markdown",
   "metadata": {},
   "source": [
    "### Analysis on Trip-Route Catagory"
   ]
  },
  {
   "cell_type": "code",
   "execution_count": 59,
   "metadata": {},
   "outputs": [
    {
     "data": {
      "image/png": "[encoded data removed]",
      "text/plain": [
       "<Figure size 864x360 with 2 Axes>"
      ]
     },
     "metadata": {
      "needs_background": "light"
     },
     "output_type": "display_data"
    }
   ],
   "source": [
    "plt.figure(figsize=(12,5))\n",
    "\n",
    "plt.subplot(121)\n",
    "bike_share_trip['Trip_Route_Category'].value_counts().plot(kind='bar')\n",
    "plt.ylabel('Number of users')\n",
    "plt.title('Total number of users based on \\'Trip Route Category\\'')\n",
    "\n",
    "plt.subplot(122)\n",
    "bike_share_trip['Trip_Route_Category'].value_counts().plot(kind='pie', autopct='%.2f')\n",
    "plt.ylabel('Number of users')\n",
    "plt.title('Percentage of users based on \\'Trip Route Category\\'')\n",
    "\n",
    "plt.show()"
   ]
  },
  {
   "cell_type": "markdown",
   "metadata": {},
   "source": [
    "### Conclusion\n",
    "90.23% users take One Way trip. The round-trip might be take for leisure or for fun."
   ]
  },
  {
   "cell_type": "markdown",
   "metadata": {},
   "source": [
    "### Analysis on Passholder Type"
   ]
  },
  {
   "cell_type": "code",
   "execution_count": 42,
   "metadata": {},
   "outputs": [
    {
     "data": {
      "text/plain": [
       "array(['Monthly Pass', 'Flex Pass', 'Walk-up'], dtype=object)"
      ]
     },
     "execution_count": 42,
     "metadata": {},
     "output_type": "execute_result"
    }
   ],
   "source": [
    "# Analyze duration characteristics of different passholder\n",
    "# Check how many passholder types\n",
    "bike_share_trip.Passholder_Type.unique()"
   ]
  },
  {
   "cell_type": "code",
   "execution_count": 60,
   "metadata": {},
   "outputs": [
    {
     "data": {
      "image/png": "[encoded data removed]",
      "text/plain": [
       "<Figure size 864x360 with 2 Axes>"
      ]
     },
     "metadata": {
      "needs_background": "light"
     },
     "output_type": "display_data"
    }
   ],
   "source": [
    "# Since \"Plan Duration\" and \"Passholder Type\" contains same info, only one is ploted.\n",
    "plt.figure(figsize=(12,5))\n",
    "\n",
    "plt.subplot(121)\n",
    "bike_share_trip['Passholder_Type'].value_counts().plot(kind='bar')\n",
    "plt.ylabel('Number of users')\n",
    "plt.title('Total number of users based on \\'Passholder Type\\'')\n",
    "\n",
    "plt.subplot(122)\n",
    "bike_share_trip['Passholder_Type'].value_counts().plot(kind='pie', autopct='%.2f')\n",
    "plt.title('Total percentage of users based on \\'Passholder Type\\'')\n",
    "\n",
    "plt.show()"
   ]
  },
  {
   "cell_type": "code",
   "execution_count": 44,
   "metadata": {},
   "outputs": [
    {
     "data": {
      "image/png": "[encoded data removed]",
      "text/plain": [
       "<Figure size 864x360 with 2 Axes>"
      ]
     },
     "metadata": {
      "needs_background": "light"
     },
     "output_type": "display_data"
    }
   ],
   "source": [
    "monthly = bike_share_trip.Passholder_Type==\"Monthly Pass\"\n",
    "flex = bike_share_trip.Passholder_Type==\"Flex Pass\"\n",
    "walk = bike_share_trip.Passholder_Type==\"Walk-up\"\n",
    "\n",
    "plt.figure(figsize=(12,5))\n",
    "\n",
    "plt.subplot(121)\n",
    "plt.bar((\"Monthly Pass\",\"Flex Pass\",\"Walk-up\"),[bike_share_trip[monthly].Duration.mean(), bike_share_trip[flex].Duration.mean(), bike_share_trip[walk].Duration.mean()])\n",
    "plt.ylabel('Means of duration (min)')\n",
    "plt.title('Means of Duration based on \\'Passholder Type\\'')\n",
    "\n",
    "plt.subplot(122)\n",
    "plt.pie([bike_share_trip[monthly].Duration.sum(), bike_share_trip[flex].Duration.sum(), bike_share_trip[walk].Duration.sum()], labels = (\"Monthly Pass\",\"Flex Pass\",\"Walk-up\"), autopct='%.2f')\n",
    "plt.title('Percentage of sum of \\'Duration\\' based on different \\'Passholder Type\\'')\n",
    "plt.show()"
   ]
  },
  {
   "cell_type": "code",
   "execution_count": 114,
   "metadata": {},
   "outputs": [
    {
     "data": {
      "text/html": [
       "<div>\n",
       "<style scoped>\n",
       "    .dataframe tbody tr th:only-of-type {\n",
       "        vertical-align: middle;\n",
       "    }\n",
       "\n",
       "    .dataframe tbody tr th {\n",
       "        vertical-align: top;\n",
       "    }\n",
       "\n",
       "    .dataframe thead tr th {\n",
       "        text-align: left;\n",
       "    }\n",
       "\n",
       "    .dataframe thead tr:last-of-type th {\n",
       "        text-align: right;\n",
       "    }\n",
       "</style>\n",
       "<table border=\"1\" class=\"dataframe\">\n",
       "  <thead>\n",
       "    <tr>\n",
       "      <th></th>\n",
       "      <th></th>\n",
       "      <th>Trip_ID</th>\n",
       "    </tr>\n",
       "    <tr>\n",
       "      <th></th>\n",
       "      <th></th>\n",
       "      <th>count</th>\n",
       "    </tr>\n",
       "    <tr>\n",
       "      <th>Trip_Route_Category</th>\n",
       "      <th>Passholder_Type</th>\n",
       "      <th></th>\n",
       "    </tr>\n",
       "  </thead>\n",
       "  <tbody>\n",
       "    <tr>\n",
       "      <th rowspan=\"3\" valign=\"top\">One Way</th>\n",
       "      <th>Flex Pass</th>\n",
       "      <td>6.984922</td>\n",
       "    </tr>\n",
       "    <tr>\n",
       "      <th>Monthly Pass</th>\n",
       "      <td>58.463583</td>\n",
       "    </tr>\n",
       "    <tr>\n",
       "      <th>Walk-up</th>\n",
       "      <td>24.779964</td>\n",
       "    </tr>\n",
       "    <tr>\n",
       "      <th rowspan=\"3\" valign=\"top\">Round Trip</th>\n",
       "      <th>Flex Pass</th>\n",
       "      <td>0.375160</td>\n",
       "    </tr>\n",
       "    <tr>\n",
       "      <th>Monthly Pass</th>\n",
       "      <td>2.965500</td>\n",
       "    </tr>\n",
       "    <tr>\n",
       "      <th>Walk-up</th>\n",
       "      <td>6.430871</td>\n",
       "    </tr>\n",
       "  </tbody>\n",
       "</table>\n",
       "</div>"
      ],
      "text/plain": [
       "                                       Trip_ID\n",
       "                                         count\n",
       "Trip_Route_Category Passholder_Type           \n",
       "One Way             Flex Pass         6.984922\n",
       "                    Monthly Pass     58.463583\n",
       "                    Walk-up          24.779964\n",
       "Round Trip          Flex Pass         0.375160\n",
       "                    Monthly Pass      2.965500\n",
       "                    Walk-up           6.430871"
      ]
     },
     "execution_count": 114,
     "metadata": {},
     "output_type": "execute_result"
    }
   ],
   "source": [
    "# Discover the percentage of passholder type for both one_way and round_trip\n",
    "bike_share_trip[['Trip_ID','Trip_Route_Category','Passholder_Type']].groupby(['Trip_Route_Category','Passholder_Type']).agg(['count'])/len(bike_share_trip)*100"
   ]
  },
  {
   "cell_type": "markdown",
   "metadata": {},
   "source": [
    "### Conclusion\n",
    "* There are only three passholder types: Monthly Pass, Flex Pass, Walk-up.\n",
    "* 61.43% users hold the Monthly Pass.\n",
    "* The \"Walk-up\" users takes 31.21% in the total users, but they use bikes longer than other users. The total use time of \"Walk-up\" users takes the biggest percentage among these available types.\n",
    "* In one way route, most users hold Monthly Pass. In round trip, most users hold Walk-up pass."
   ]
  },
  {
   "cell_type": "markdown",
   "metadata": {},
   "source": [
    "### Analysis on start time (the most common pick-up time) "
   ]
  },
  {
   "cell_type": "code",
   "execution_count": 54,
   "metadata": {
    "scrolled": true
   },
   "outputs": [
    {
     "name": "stdout",
     "output_type": "stream",
     "text": [
      "The dataset collects data from 2016-07-07 04:17:00 to 2016-12-31 23:26:00.\n",
      "The dataset collects 178 days of data.\n"
     ]
    }
   ],
   "source": [
    "print(\"The dataset collects data from {} to {}.\".format(bike_share_trip.Start_Time.min(), bike_share_trip.Start_Time.max()))\n",
    "print(\"The dataset collects {} days of data.\".format(bike_share_trip.Start_Time.dt.date.nunique()))"
   ]
  },
  {
   "cell_type": "code",
   "execution_count": 55,
   "metadata": {},
   "outputs": [
    {
     "data": {
      "image/png": "[encoded data removed]",
      "text/plain": [
       "<Figure size 864x360 with 2 Axes>"
      ]
     },
     "metadata": {
      "needs_background": "light"
     },
     "output_type": "display_data"
    }
   ],
   "source": [
    "plt.figure(figsize=(12,5))\n",
    "\n",
    "plt.subplot(121)\n",
    "bike_share_trip.Start_Time.dt.hour.value_counts().sort_index().plot(kind='bar')\n",
    "plt.xlabel('Time of the day (hour)')\n",
    "plt.ylabel('Number of users')\n",
    "plt.title('Number of users at different start time')\n",
    "\n",
    "plt.subplot(122)\n",
    "bike_share_trip.Start_Time.dt.hour.value_counts().plot(kind='bar')\n",
    "plt.xlabel('Time of the day (hour)')\n",
    "plt.ylabel('Number of users')\n",
    "plt.title('Number of users at different start time')\n",
    "plt.show()"
   ]
  },
  {
   "cell_type": "markdown",
   "metadata": {},
   "source": [
    "### Coclusion\n",
    "* The most popular time to pick up bikes are: 17-18h, 12-13h. 17-18h is after work hours, and 12-13h is lunch time.\n",
    "* After 0h, the usage of bikes drops down, and starts going up."
   ]
  },
  {
   "cell_type": "markdown",
   "metadata": {},
   "source": [
    "### Analysis on the top 5 popular place to pick up,  and return bikes"
   ]
  },
  {
   "cell_type": "code",
   "execution_count": 65,
   "metadata": {},
   "outputs": [
    {
     "name": "stdout",
     "output_type": "stream",
     "text": [
      "There are 64 Start Stations to pick up bike.\n",
      "The top 5 Start Stations to pick up bikes are:\n"
     ]
    },
    {
     "data": {
      "text/plain": [
       "3030.0    3787\n",
       "3069.0    3715\n",
       "3005.0    3609\n",
       "3014.0    3504\n",
       "3031.0    3450\n",
       "Name: Starting_Station_ID, dtype: int64"
      ]
     },
     "execution_count": 65,
     "metadata": {},
     "output_type": "execute_result"
    }
   ],
   "source": [
    "print(\"There are {} Start Stations to pick up bike.\".format(bike_share_trip.Starting_Station_ID.nunique()))\n",
    "print(\"The top 5 Start Stations to pick up bikes are:\")\n",
    "bike_share_trip.Starting_Station_ID.value_counts().head()"
   ]
  },
  {
   "cell_type": "code",
   "execution_count": 109,
   "metadata": {},
   "outputs": [
    {
     "name": "stdout",
     "output_type": "stream",
     "text": [
      "Starting_Station_ID: 3030.0\n",
      "Starting_Station_Latitude     34.0519\n",
      "Starting_Station_Longitude   -118.244\n",
      "Name: 38, dtype: object\n",
      "Starting_Station_ID: 3069.0\n",
      "Starting_Station_Latitude     34.0509\n",
      "Starting_Station_Longitude   -118.248\n",
      "Name: 220, dtype: object\n",
      "Starting_Station_ID: 3005.0\n",
      "Starting_Station_Latitude     34.0485\n",
      "Starting_Station_Longitude   -118.259\n",
      "Name: 25, dtype: object\n",
      "Starting_Station_ID: 3014.0\n",
      "Starting_Station_Latitude     34.0566\n",
      "Starting_Station_Longitude   -118.237\n",
      "Name: 0, dtype: object\n",
      "Starting_Station_ID: 3031.0\n",
      "Starting_Station_Latitude     34.0447\n",
      "Starting_Station_Longitude   -118.252\n",
      "Name: 8, dtype: object\n"
     ]
    }
   ],
   "source": [
    "top5_Starting_Station_ID = bike_share_trip.Starting_Station_ID.value_counts().sort_values(ascending=False).iloc[:5]\n",
    "\n",
    "for i in range(len(top5_Starting_Station_ID)):\n",
    "    print(\"Starting_Station_ID:\", top5_Starting_Station_ID.index[i])\n",
    "    print(bike_share_trip[bike_share_trip[\"Starting_Station_ID\"]==top5_Starting_Station_ID.index[i]].iloc[0][['Starting_Station_Latitude','Starting_Station_Longitude']])"
   ]
  },
  {
   "cell_type": "markdown",
   "metadata": {},
   "source": [
    "### Conclusion\n",
    "Use these position information, it shows:\n",
    "* Starting_Station_ID 3030.0 is close to Grand Park, Los Angeles Police Department Headquarders, California Department of Transportation, Los Angeles City Hall, etc.\n",
    "* Starting_Station_ID 3069.0 is close to Grand Central Market, Bradbury Building, Angels Flight Railways, etc.\n",
    "* Starting_Station_ID 3005.0 is close to Macy's shopping center, a lot of restaurants and shopping malls, etc.\n",
    "* Starting_Station_ID 3014.0 is close to a Union Station, Union Station- Metro Gold Line, etc.\n",
    "* Starting_Station_ID 3031.0 is close to a lot of restaurants and shopping malls, etc.\n"
   ]
  },
  {
   "cell_type": "code",
   "execution_count": 115,
   "metadata": {},
   "outputs": [
    {
     "name": "stdout",
     "output_type": "stream",
     "text": [
      "There are 64 End Stations to return bike.\n",
      "The top 5 End Stations to return bikes are:\n"
     ]
    },
    {
     "data": {
      "text/plain": [
       "3005.0    4621\n",
       "3031.0    4175\n",
       "3014.0    4091\n",
       "3042.0    3862\n",
       "3069.0    3622\n",
       "Name: Ending_Station_ID, dtype: int64"
      ]
     },
     "execution_count": 115,
     "metadata": {},
     "output_type": "execute_result"
    }
   ],
   "source": [
    "print(\"There are {} End Stations to return bike.\".format(bike_share_trip.Ending_Station_ID.nunique()))\n",
    "print(\"The top 5 End Stations to return bikes are:\")\n",
    "bike_share_trip.Ending_Station_ID.value_counts().head()"
   ]
  },
  {
   "cell_type": "code",
   "execution_count": 110,
   "metadata": {
    "scrolled": true
   },
   "outputs": [
    {
     "name": "stdout",
     "output_type": "stream",
     "text": [
      "Ending_Station_ID: 3005.0\n",
      "Ending_Station_Latitude     34.0485\n",
      "Ending_Station_Longitude   -118.259\n",
      "Name: 7, dtype: object\n",
      "Ending_Station_ID: 3031.0\n",
      "Ending_Station_Latitude     34.0447\n",
      "Ending_Station_Longitude   -118.252\n",
      "Name: 8, dtype: object\n",
      "Ending_Station_ID: 3014.0\n",
      "Ending_Station_Latitude     34.0566\n",
      "Ending_Station_Longitude   -118.237\n",
      "Name: 0, dtype: object\n",
      "Ending_Station_ID: 3042.0\n",
      "Ending_Station_Latitude     34.0493\n",
      "Ending_Station_Longitude   -118.239\n",
      "Name: 34, dtype: object\n",
      "Ending_Station_ID: 3069.0\n",
      "Ending_Station_Latitude     34.0509\n",
      "Ending_Station_Longitude   -118.248\n",
      "Name: 246, dtype: object\n"
     ]
    }
   ],
   "source": [
    "top5_Ending_Station_ID = bike_share_trip.Ending_Station_ID.value_counts().sort_values(ascending=False).iloc[:5]\n",
    "\n",
    "for i in range(len(top5_Ending_Station_ID)):\n",
    "    print(\"Ending_Station_ID:\", top5_Ending_Station_ID.index[i])\n",
    "    print(bike_share_trip[bike_share_trip[\"Ending_Station_ID\"]==top5_Ending_Station_ID.index[i]].iloc[0][['Ending_Station_Latitude','Ending_Station_Longitude']])"
   ]
  },
  {
   "cell_type": "markdown",
   "metadata": {},
   "source": [
    "### Conclusion\n",
    "Use these position information, it shows:\n",
    "* Ending_Station_ID 3005.0 is also the 3rd popular place to pick up bikes.\n",
    "* Ending_Station_ID 3031.0 is also the 5th popular place to pick up bikes.\n",
    "* Ending_Station_ID 3014.0 is also the 4th popular place to pick up bikes.\n",
    "* Ending_Station_ID 3042.0 is close to Little Tokyo/Arts District Station, Japanese restaurants, Janpanese hotels, etc. (This is interesting, maybe further works could be done.)\n",
    "* Ending_Station_ID 3069.0 is also the 2nd popular place to pick up bikes."
   ]
  }
 ],
 "metadata": {
  "kernelspec": {
   "display_name": "Python 3",
   "language": "python",
   "name": "python3"
  },
  "language_info": {
   "codemirror_mode": {
    "name": "ipython",
    "version": 3
   },
   "file_extension": ".py",
   "mimetype": "text/x-python",
   "name": "python",
   "nbconvert_exporter": "python",
   "pygments_lexer": "ipython3",
   "version": "3.6.8"
  }
 },
 "nbformat": 4,
 "nbformat_minor": 2
}
